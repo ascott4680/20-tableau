{
 "cells": [
  {
   "cell_type": "code",
   "execution_count": 1,
   "metadata": {},
   "outputs": [],
   "source": [
    "import pandas as pd\n",
    "import glob, os\n",
    " \n",
    "#os.chdir(\"C:/Folder\")\n",
    "results = pd.DataFrame([])\n",
    " \n",
    "for counter, file in enumerate(glob.glob(\"tripdata*\")):\n",
    "    namedf = pd.read_csv(file, skiprows=0 )\n",
    "    results = results.append(namedf)\n",
    " \n",
    "results.to_csv('2018.csv')\n",
    "\n",
    "# This outputs a 3.4gb CSV file, which ironially imports just fine into Tableau, it's approximately 17 million records\n"
   ]
  },
  {
   "cell_type": "code",
   "execution_count": 2,
   "metadata": {},
   "outputs": [
    {
     "data": {
      "text/plain": [
       "tripduration               17548339\n",
       "starttime                  17548339\n",
       "stoptime                   17548339\n",
       "start station id           17545842\n",
       "start station name         17545842\n",
       "start station latitude     17548339\n",
       "start station longitude    17548339\n",
       "end station id             17545842\n",
       "end station name           17545842\n",
       "end station latitude       17548339\n",
       "end station longitude      17548339\n",
       "bikeid                     17548339\n",
       "usertype                   17548339\n",
       "birth year                 17548339\n",
       "gender                     17548339\n",
       "dtype: int64"
      ]
     },
     "execution_count": 2,
     "metadata": {},
     "output_type": "execute_result"
    }
   ],
   "source": [
    "results.count()"
   ]
  },
  {
   "cell_type": "markdown",
   "metadata": {},
   "source": [
    "For whatever reason writing to an excel file not only takes an hour, but it seems to only write the first 10 million records. It seems to be a file format limit? Excel apparently only officially supports 1 million rows. "
   ]
  },
  {
   "cell_type": "code",
   "execution_count": 4,
   "metadata": {},
   "outputs": [
    {
     "name": "stdout",
     "output_type": "stream",
     "text": [
      "DataFrame is written successfully to Excel File.\n"
     ]
    }
   ],
   "source": [
    "df = pd.DataFrame(results)\n",
    "writer = pd.ExcelWriter('output2.xlsx')\n",
    "df.to_excel(writer)\n",
    "writer.save()\n",
    "print('DataFrame is written successfully to Excel File.')"
   ]
  }
 ],
 "metadata": {
  "kernelspec": {
   "display_name": "Python 3",
   "language": "python",
   "name": "python3"
  },
  "language_info": {
   "codemirror_mode": {
    "name": "ipython",
    "version": 3
   },
   "file_extension": ".py",
   "mimetype": "text/x-python",
   "name": "python",
   "nbconvert_exporter": "python",
   "pygments_lexer": "ipython3",
   "version": "3.7.1"
  }
 },
 "nbformat": 4,
 "nbformat_minor": 2
}
